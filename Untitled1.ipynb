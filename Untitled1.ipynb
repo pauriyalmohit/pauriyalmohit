{
  "nbformat": 4,
  "nbformat_minor": 0,
  "metadata": {
    "colab": {
      "provenance": [],
      "authorship_tag": "ABX9TyO0tD49z1yRqixnOBDSrwgY",
      "include_colab_link": true
    },
    "kernelspec": {
      "name": "python3",
      "display_name": "Python 3"
    },
    "language_info": {
      "name": "python"
    }
  },
  "cells": [
    {
      "cell_type": "markdown",
      "metadata": {
        "id": "view-in-github",
        "colab_type": "text"
      },
      "source": [
        "<a href=\"https://colab.research.google.com/github/pauriyalmohit/pauriyalmohit/blob/main/Untitled1.ipynb\" target=\"_parent\"><img src=\"https://colab.research.google.com/assets/colab-badge.svg\" alt=\"Open In Colab\"/></a>"
      ]
    },
    {
      "cell_type": "code",
      "execution_count": null,
      "metadata": {
        "colab": {
          "base_uri": "https://localhost:8080/"
        },
        "id": "a_cOh4AhOmme",
        "outputId": "41b08e7e-efc5-4f37-efe0-5ff4cd47589b"
      },
      "outputs": [
        {
          "output_type": "stream",
          "name": "stdout",
          "text": [
            "enter first  number23\n",
            "enter second number45\n",
            "enter third number21\n",
            "sum of three numbers 89\n"
          ]
        }
      ],
      "source": [
        "num1=int(input(\"enter first  number\"))\n",
        "num2=int(input(\"enter second number\"))\n",
        "num3=int(input(\"enter third number\"))\n",
        "sum=num1+num2+num3\n",
        "print(\"sum of three numbers\",sum)\n",
        "\n",
        "\n"
      ]
    },
    {
      "cell_type": "code",
      "source": [],
      "metadata": {
        "id": "VzgvLXddRGdL"
      },
      "execution_count": null,
      "outputs": []
    },
    {
      "cell_type": "code",
      "source": [
        "num=0\n",
        "while num<10:\n",
        "    print(num)\n",
        "    num=num+1"
      ],
      "metadata": {
        "colab": {
          "base_uri": "https://localhost:8080/"
        },
        "id": "q7A92Q8GRS2e",
        "outputId": "3ee28457-bca0-4310-dde3-0a740250ee43"
      },
      "execution_count": null,
      "outputs": [
        {
          "output_type": "stream",
          "name": "stdout",
          "text": [
            "0\n",
            "1\n",
            "2\n",
            "3\n",
            "4\n",
            "5\n",
            "6\n",
            "7\n",
            "8\n",
            "9\n"
          ]
        }
      ]
    },
    {
      "cell_type": "code",
      "source": [
        "number=int(input(\"enter a positive number:\"))\n",
        "order=len(str(number))\n",
        "sum=0\n",
        "temp=number\n",
        "while temp>0:\n",
        "    digit=temp%10\n",
        "    sum=sum+digit**order\n",
        "    temp=temp//10\n",
        "if number==sum:\n",
        "    print(\"if the number is an armstrong number\")\n",
        "else:\n",
        "    print(\"not an armstrong number\")"
      ],
      "metadata": {
        "colab": {
          "base_uri": "https://localhost:8080/"
        },
        "id": "4_cYcXXaTKvg",
        "outputId": "14534b68-423c-448a-ab69-46ce2e7e2add"
      },
      "execution_count": null,
      "outputs": [
        {
          "output_type": "stream",
          "name": "stdout",
          "text": [
            "enter a positive number:345\n",
            "not an armstrong number\n"
          ]
        }
      ]
    }
  ]
}