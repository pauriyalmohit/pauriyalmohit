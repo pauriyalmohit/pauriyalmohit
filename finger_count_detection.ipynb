{
  "nbformat": 4,
  "nbformat_minor": 0,
  "metadata": {
    "colab": {
      "provenance": [],
      "include_colab_link": true
    },
    "kernelspec": {
      "name": "python3",
      "display_name": "Python 3"
    },
    "language_info": {
      "name": "python"
    }
  },
  "cells": [
    {
      "cell_type": "markdown",
      "metadata": {
        "id": "view-in-github",
        "colab_type": "text"
      },
      "source": [
        "<a href=\"https://colab.research.google.com/github/pauriyalmohit/pauriyalmohit/blob/main/finger_count_detection.ipynb\" target=\"_parent\"><img src=\"https://colab.research.google.com/assets/colab-badge.svg\" alt=\"Open In Colab\"/></a>"
      ]
    },
    {
      "cell_type": "code",
      "execution_count": 1,
      "metadata": {
        "colab": {
          "base_uri": "https://localhost:8080/"
        },
        "id": "No2jaZFjn7aL",
        "outputId": "76f08aaa-6f60-4930-b058-67171724b409"
      },
      "outputs": [
        {
          "output_type": "stream",
          "name": "stdout",
          "text": [
            "Cloning into 'hand_finger_detection'...\n",
            "remote: Enumerating objects: 16, done.\u001b[K\n",
            "remote: Counting objects: 100% (16/16), done.\u001b[K\n",
            "remote: Compressing objects: 100% (14/14), done.\u001b[K\n",
            "remote: Total 16 (delta 2), reused 0 (delta 0), pack-reused 0\u001b[K\n",
            "Receiving objects: 100% (16/16), 721.46 KiB | 9.88 MiB/s, done.\n",
            "Resolving deltas: 100% (2/2), done.\n",
            "/content/hand_finger_detection\n"
          ]
        }
      ],
      "source": [
        "!git clone https://github.com/karunesh29/hand_finger_detection\n",
        "%cd hand_finger_detection"
      ]
    },
    {
      "cell_type": "code",
      "source": [
        "import cv2\n",
        "import numpy as np\n",
        "from google.colab.patches import cv2_imshow\n",
        "# cap = cv2.VideoCapture(0)\n",
        "def handGesture(img):\n",
        "  # ret,img = cap.read()\n",
        "  img = cv2.resize(img, (int(img.shape[1]/4), int(img.shape[0]/4)))\n",
        "  gray = cv2.cvtColor(img,cv2.COLOR_BGR2GRAY)\n",
        "  blur = cv2.GaussianBlur(gray,(5,5),0)\n",
        "  ret,thresh1 = cv2.threshold(blur,70,255,cv2.THRESH_BINARY_INV+cv2.THRESH_OTSU)\n",
        "\n",
        "  contours, hierarchy = cv2.findContours(thresh1,cv2.RETR_TREE,cv2.CHAIN_APPROX_SIMPLE)\n",
        "  drawing = np.zeros(img.shape,np.uint8)\n",
        "\n",
        "  max_area=0\n",
        "\n",
        "  for i in range(len(contours)):\n",
        "    cnt=contours[i]\n",
        "    area = cv2.contourArea(cnt)\n",
        "    if (area>max_area):\n",
        "      max_area=area\n",
        "      ci=i\n",
        "  cnt=contours[ci]\n",
        "  hull = cv2.convexHull(cnt)\n",
        "  moments = cv2.moments(cnt)\n",
        "  if moments['m00']!=0:\n",
        "    cx = int(moments['m10']/moments['m00']) # cx = M10/M00\n",
        "    cy = int(moments['m01']/moments['m00']) # cy = M01/M00\n",
        "\n",
        "  centr=(cx,cy)\n",
        "  cv2.circle(img,centr,5,[0,0,255],2)\n",
        "  cv2.drawContours(drawing,[cnt],0,(0,255,0),2)\n",
        "  cv2.drawContours(drawing,[hull],0,(0,0,255),2)\n",
        "\n",
        "  cnt = cv2.approxPolyDP(cnt,0.01*cv2.arcLength(cnt,True),True)\n",
        "  hull = cv2.convexHull(cnt,returnPoints = False)\n",
        "\n",
        "  if (1):\n",
        "    defects = cv2.convexityDefects(cnt,hull)\n",
        "    mind=0\n",
        "    maxd=0\n",
        "    for i in range(defects.shape[0]):\n",
        "      s,e,f,d = defects[i,0]\n",
        "      start = tuple(cnt[s][0])\n",
        "      end = tuple(cnt[e][0])\n",
        "      far = tuple(cnt[f][0])\n",
        "      dist = cv2.pointPolygonTest(cnt,centr,True)\n",
        "      cv2.line(img,start,end,[0,0,255],5)\n",
        "\n",
        "      cv2.circle(img,far,10,[0,0,255],-1)\n",
        "      font = cv2.FONT_HERSHEY_DUPLEX\n",
        "    cv2.putText(img, \"Number of Fingers: \"+str(i), ( 26, 106), font, 1, (0, 0, 255), 2)\n",
        "    i=0\n",
        "    return (img)"
      ],
      "metadata": {
        "id": "s_AuNnfWoZaT"
      },
      "execution_count": 2,
      "outputs": []
    },
    {
      "cell_type": "code",
      "source": [
        "input = cv2.imread(\"\"/content/WIN_20240617_16_40_23_Pro.jpg\".jpg\")\n",
        "output = handGesture(input)\n",
        "cv2_imshow(output)"
      ],
      "metadata": {
        "colab": {
          "base_uri": "https://localhost:8080/",
          "height": 106
        },
        "id": "wlRUOfqWodWL",
        "outputId": "af0bab04-d7a9-450a-9fe1-b125b7e42cec"
      },
      "execution_count": 3,
      "outputs": [
        {
          "output_type": "error",
          "ename": "SyntaxError",
          "evalue": "invalid syntax. Perhaps you forgot a comma? (<ipython-input-3-c3cb72e9f193>, line 1)",
          "traceback": [
            "\u001b[0;36m  File \u001b[0;32m\"<ipython-input-3-c3cb72e9f193>\"\u001b[0;36m, line \u001b[0;32m1\u001b[0m\n\u001b[0;31m    input = cv2.imread(\"\"/content/WIN_20240617_16_40_23_Pro.jpg\".jpg\")\u001b[0m\n\u001b[0m                       ^\u001b[0m\n\u001b[0;31mSyntaxError\u001b[0m\u001b[0;31m:\u001b[0m invalid syntax. Perhaps you forgot a comma?\n"
          ]
        }
      ]
    },
    {
      "cell_type": "code",
      "source": [],
      "metadata": {
        "id": "bUI6inQxvF4N"
      },
      "execution_count": null,
      "outputs": []
    }
  ]
}