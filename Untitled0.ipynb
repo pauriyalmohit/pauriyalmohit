{
  "nbformat": 4,
  "nbformat_minor": 0,
  "metadata": {
    "colab": {
      "provenance": [],
      "authorship_tag": "ABX9TyOSx/0g1OlFB3CKmE+SoxAX",
      "include_colab_link": true
    },
    "kernelspec": {
      "name": "python3",
      "display_name": "Python 3"
    },
    "language_info": {
      "name": "python"
    }
  },
  "cells": [
    {
      "cell_type": "markdown",
      "metadata": {
        "id": "view-in-github",
        "colab_type": "text"
      },
      "source": [
        "<a href=\"https://colab.research.google.com/github/pauriyalmohit/pauriyalmohit/blob/main/Untitled0.ipynb\" target=\"_parent\"><img src=\"https://colab.research.google.com/assets/colab-badge.svg\" alt=\"Open In Colab\"/></a>"
      ]
    },
    {
      "cell_type": "code",
      "execution_count": 20,
      "metadata": {
        "colab": {
          "base_uri": "https://localhost:8080/",
          "height": 72
        },
        "id": "ghRzUXNLsh5c",
        "outputId": "ecea75d4-bd76-4ec2-b1ab-dfc751c0ddc5"
      },
      "outputs": [
        {
          "name": "stdout",
          "output_type": "stream",
          "text": [
            "what is your name-Mohit pauriyal\n",
            "what is your fav food-NOODLES\n"
          ]
        },
        {
          "output_type": "execute_result",
          "data": {
            "text/plain": [
              "'NOODLES'"
            ],
            "application/vnd.google.colaboratory.intrinsic+json": {
              "type": "string"
            }
          },
          "metadata": {},
          "execution_count": 20
        }
      ],
      "source": [
        "input(\"what is your name-\")\n",
        "input (\"what is your fav food-\")"
      ]
    },
    {
      "cell_type": "code",
      "source": [
        "from re import A\n",
        "a=int (input(\"enter a number\"))\n",
        "b=int (input(\"enter second number\"))\n",
        "geek=input(\"select your geek\")\n",
        "if(geek ==\"+\" ):\n",
        "\n",
        "  print(a+b)\n",
        "elif(geek==\"-\"):\n",
        "  print(a-b)\n",
        "elif(geek==\"*\"):\n",
        "  print(a*b)\n",
        "elif(geek==\"/\"):\n",
        "  print(a/b)\n",
        "\n",
        "\n",
        "\n",
        "\n",
        "\n"
      ],
      "metadata": {
        "colab": {
          "base_uri": "https://localhost:8080/"
        },
        "id": "D8M8igy2u1Tt",
        "outputId": "3d4ef2b0-7b68-45c7-d648-5dbf7cba5662"
      },
      "execution_count": 9,
      "outputs": [
        {
          "output_type": "stream",
          "name": "stdout",
          "text": [
            "enter a number5\n",
            "enter second number5\n",
            "select your geek/\n",
            "1.0\n"
          ]
        }
      ]
    },
    {
      "cell_type": "code",
      "source": [
        "start=int(input(\"enter your starting number\"))\n",
        "end=int(input(\"enter ending number\"))\n",
        "step=int(input(\"enter your step\"))\n",
        "for i in range(start ,end,step):\n",
        "  print(i)\n"
      ],
      "metadata": {
        "colab": {
          "base_uri": "https://localhost:8080/"
        },
        "id": "_4ofrYr7zYZO",
        "outputId": "48d80fe4-5ef8-47fe-8fa9-402814e20f9b"
      },
      "execution_count": 16,
      "outputs": [
        {
          "output_type": "stream",
          "name": "stdout",
          "text": [
            "enter your starting number5\n",
            "enter ending number50\n",
            "enter your step6\n",
            "5\n",
            "11\n",
            "17\n",
            "23\n",
            "29\n",
            "35\n",
            "41\n",
            "47\n"
          ]
        }
      ]
    },
    {
      "cell_type": "code",
      "source": [
        "from typing_extensions import final\n",
        "x1=int(input(\"enter value of x1 \"))\n",
        "x2=int(input(\"enter value of x2\"))\n",
        "y1=int(input(\"enter value of y1\"))\n",
        "y2=int(input(\"enter value of y2\"))\n",
        "d=x1-x2\n",
        "sq_d=d**2\n",
        "e=y1-y2\n",
        "sq_e=e**2\n",
        "sum=sq_d+sq_e\n",
        "final=sum**0.5\n",
        "print(final)"
      ],
      "metadata": {
        "colab": {
          "base_uri": "https://localhost:8080/"
        },
        "id": "stmfZqXa3ESA",
        "outputId": "5c7131bf-44b7-485a-d2c7-fc485be76c0f"
      },
      "execution_count": 18,
      "outputs": [
        {
          "output_type": "stream",
          "name": "stdout",
          "text": [
            "enter value of x1 2\n",
            "enter value of x25\n",
            "enter value of y16\n",
            "enter value of y28\n",
            "3.605551275463989\n"
          ]
        }
      ]
    }
  ]
}